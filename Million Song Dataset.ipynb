{
 "cells": [
  {
   "cell_type": "code",
   "execution_count": 1,
   "metadata": {
    "collapsed": true
   },
   "outputs": [],
   "source": [
    "# usual imports\n",
    "import os\n",
    "import sys\n",
    "import time\n",
    "import glob\n",
    "import datetime\n",
    "import sqlite3\n",
    "import numpy as np"
   ]
  },
  {
   "cell_type": "code",
   "execution_count": 2,
   "metadata": {
    "collapsed": true
   },
   "outputs": [],
   "source": [
    "# local paths\n",
    "msd_subset_path= '/Users/dannynightingale/Downloads/MillionSongSubset'\n",
    "msd_subset_data_path=os.path.join(msd_subset_path,'data')\n",
    "msd_subset_addf_path=os.path.join(msd_subset_path,'AdditionalFiles')\n",
    "assert os.path.isdir(msd_subset_path),'wrong path' # sanity check"
   ]
  },
  {
   "cell_type": "code",
   "execution_count": 3,
   "metadata": {
    "collapsed": true
   },
   "outputs": [],
   "source": [
    "# imports specific to the MSD\n",
    "import hdf5_getters as GETTERS"
   ]
  },
  {
   "cell_type": "code",
   "execution_count": 4,
   "metadata": {
    "collapsed": true
   },
   "outputs": [],
   "source": [
    "# the following function simply gives us a nice string for\n",
    "# a time lag in seconds\n",
    "def strtimedelta(starttime,stoptime):\n",
    "    return str(datetime.timedelta(seconds=stoptime-starttime))\n",
    "\n",
    "# we define this very useful function to iterate the files\n",
    "def apply_to_all_files(basedir,func=lambda x: x,ext='.h5'):\n",
    "    \"\"\"\n",
    "    From a base directory, go through all subdirectories,\n",
    "    find all files with the given extension, apply the\n",
    "    given function 'func' to all of them.\n",
    "    If no 'func' is passed, we do nothing except counting.\n",
    "    INPUT\n",
    "       basedir  - base directory of the dataset\n",
    "       func     - function to apply to all filenames\n",
    "       ext      - extension, .h5 by default\n",
    "    RETURN\n",
    "       number of files\n",
    "    \"\"\"\n",
    "    cnt = 0\n",
    "    # iterate over all files in all subdirectories\n",
    "    for root, dirs, files in os.walk(basedir):\n",
    "        files = glob.glob(os.path.join(root,'*'+ext))\n",
    "        # count files\n",
    "        cnt += len(files)\n",
    "        # apply function to all files\n",
    "        for f in files :\n",
    "            func(f)       \n",
    "    return cnt"
   ]
  },
  {
   "cell_type": "code",
   "execution_count": 5,
   "metadata": {},
   "outputs": [
    {
     "name": "stdout",
     "output_type": "stream",
     "text": [
      "number of song files: 10000\n"
     ]
    }
   ],
   "source": [
    "# we can now easily count the number of files in the dataset\n",
    "print('number of song files:',apply_to_all_files(msd_subset_data_path))"
   ]
  },
  {
   "cell_type": "code",
   "execution_count": 21,
   "metadata": {},
   "outputs": [
    {
     "name": "stdout",
     "output_type": "stream",
     "text": [
      "all artist names extracted in: 0:01:49.504729\n"
     ]
    }
   ],
   "source": [
    "all_artist_names = set()\n",
    "\n",
    "# we define the function to apply to all files\n",
    "def func_to_get_artist_name(filename):\n",
    "    \"\"\"\n",
    "    This function does 3 simple things:\n",
    "    - open the song file\n",
    "    - get artist ID and put it\n",
    "    - close the file\n",
    "    \"\"\"\n",
    "    h5 = GETTERS.open_h5_file_read(filename)\n",
    "    artist_name = GETTERS.get_artist_name(h5)\n",
    "    all_artist_names.add( artist_name )\n",
    "    h5.close()\n",
    "    \n",
    "# let's apply the previous function to all files\n",
    "# we'll also measure how long it takes\n",
    "t1 = time.time()\n",
    "apply_to_all_files(msd_subset_data_path, func=func_to_get_artist_name)\n",
    "t2 = time.time()\n",
    "print('all artist names extracted in:', strtimedelta(t1,t2))"
   ]
  },
  {
   "cell_type": "code",
   "execution_count": 23,
   "metadata": {},
   "outputs": [
    {
     "data": {
      "text/plain": [
       "[b'Embrace the End',\n",
       " b'Edwin Hawkins',\n",
       " b'Wyclef Jean featuring Butch Cassidy and Sharissa',\n",
       " b'Harry Diboula']"
      ]
     },
     "execution_count": 23,
     "metadata": {},
     "output_type": "execute_result"
    }
   ],
   "source": [
    "list(all_artist_names)[:4]"
   ]
  },
  {
   "cell_type": "code",
   "execution_count": 16,
   "metadata": {},
   "outputs": [
    {
     "name": "stdout",
     "output_type": "stream",
     "text": [
      "all artist names extracted in: 0:01:59.905603\n",
      "10000\n",
      "10000\n"
     ]
    }
   ],
   "source": [
    "all_artist_names = []\n",
    "all_title = []\n",
    "\n",
    "# we define the function to apply to all files\n",
    "def func_to_get_data(filename):\n",
    "    \"\"\"\n",
    "    This function does 3 simple things:\n",
    "    - open the song file\n",
    "    - get artist ID and put it\n",
    "    - close the file\n",
    "    \"\"\"\n",
    "    h5 = GETTERS.open_h5_file_read(filename)\n",
    "    artist_name = GETTERS.get_artist_name(h5)\n",
    "    title = GETTERS.get_title(h5)\n",
    "    hotness = GETTERS.get_song_hotttnesss(h5)\n",
    "    hotness = GETTERS.get_song_hotttnesss(h5)\n",
    "    \n",
    "    all_artist_names.append(GETTERS.get_artist_name(h5))\n",
    "    all_title.append(GETTERS.get_title(h5))\n",
    "    \n",
    "    h5.close()\n",
    "\n",
    "t1 = time.time()\n",
    "apply_to_all_files(msd_subset_data_path,func=func_to_get_data)\n",
    "t2 = time.time()\n",
    "print('all artist names extracted in:',strtimedelta(t1,t2))    \n",
    "print(len(all_artist_names))\n",
    "print(len(all_title))"
   ]
  },
  {
   "cell_type": "code",
   "execution_count": 25,
   "metadata": {},
   "outputs": [
    {
     "name": "stdout",
     "output_type": "stream",
     "text": [
      "[b'Stille nacht_ heilige nacht', b'Nine Ways', b'Northern Downpour (Album Version)', b'Bad Seed', b'Exchange', b\"Marie D'Aquitaine\", b'Oh My God', b'Joy To The World', b'Hoochie Coochie Man', b'Ftei O Erotas', b'The Second Summer Of Love', b'Prelude And Fugue In C Major BWV 531 : Fugue', b\"Don't Phunk With My Heart\", b'Give It What U Got', b'Dancing To A Standstill', b'Isla del Luna', b'Spirit', b'Another Long One', b'Leng Jing', b'OAKtown']\n",
      "[b'Bruno Sanfilippo', b'Blackbyrds', b'Dolores Keane', b'A-Studio', b'Deep Puddle Dynamics', b'The Stolen Minks', b'Rance Allen Group', b'Charanga Forever', b'Francis Dunnery', b'Pascal Obispo', b'Alturas', b'Jimmy Wakely', b'King Curtis with Jack Dupree', b'The Wreckers', b'Bill Perry', b'Arthur Brown', b'Peter Spence', b'X-ecutioners featuring M.O.P.', b'Ras Michael and the Sons of Negus', b'Yvette Horner']\n"
     ]
    }
   ],
   "source": [
    "print(all_title[320])\n",
    "print(list(all_artist_names)[320])"
   ]
  },
  {
   "cell_type": "code",
   "execution_count": 20,
   "metadata": {},
   "outputs": [
    {
     "name": "stdout",
     "output_type": "stream",
     "text": [
      "found 10000 unique artist names\n",
      "b'Casual'\n",
      "b'The Box Tops'\n",
      "b'Sonora Santanera'\n",
      "b'Adam Ant'\n",
      "b'Gob'\n",
      "all artist names extracted (SQLite) in: 0:00:00.150146\n",
      "!!!\n",
      "(hed) p.e.\n",
      "089 Clique feat. Minnesota Snipe & Skinny Cueball\n",
      "089 Clique feat. Prophet\n",
      "1. Futurologischer Congress\n",
      "4412\n"
     ]
    }
   ],
   "source": [
    "# let's see some of the content of 'all_artist_names'\n",
    "print('found',len(all_artist_names),'unique artist names')\n",
    "for k in range(5):\n",
    "    print(list(all_artist_names)[k])\n",
    "\n",
    "# this is too long, and the work of listing artist names has already\n",
    "# been done. Let's redo the same task using an SQLite database.\n",
    "# We connect to the provided database: track_metadata.db\n",
    "conn = sqlite3.connect(os.path.join(msd_subset_addf_path,\n",
    "                                    'subset_track_metadata.db'))\n",
    "# we build the SQL query\n",
    "q = \"SELECT DISTINCT artist_name FROM songs\"\n",
    "# we query the database\n",
    "t1 = time.time()\n",
    "res = conn.execute(q)\n",
    "all_artist_names_sqlite = res.fetchall()\n",
    "t2 = time.time()\n",
    "print('all artist names extracted (SQLite) in:',strtimedelta(t1,t2))\n",
    "# we close the connection to the database\n",
    "conn.close()\n",
    "# let's see some of the content\n",
    "for k in range(5):\n",
    "    print(all_artist_names_sqlite[k][0])\n",
    "    \n",
    "print(len(all_artist_names_sqlite))"
   ]
  },
  {
   "cell_type": "code",
   "execution_count": 13,
   "metadata": {},
   "outputs": [
    {
     "name": "stdout",
     "output_type": "stream",
     "text": [
      "all artist names extracted (SQLite) in: 0:00:00.062497\n",
      "('TRACCVZ128F4291A8A', 'Deep Sea Creature', 'SOVLGJY12A8C13FBED', 'Call of the Mastodon', 'ARMQHX71187B9890D3', 'bc5e2ad6-0a4a-4d90-b911-e9a7e6861727', 'Mastodon', 280.21506, 0.780461748777, 0.574274730517, 2001)\n",
      "('TRACCMH128F428E4CD', 'No Quieras Marcharte', 'SOGDQZK12A8C13F37C', 'Adelante', 'AR2PT4M1187FB55B1A', 'd54ea4a6-0b9c-4e47-bed0-289ae9ff4037', 'Los Chichos', 191.68608, 0.561589945857, 0.420570307208, 1984)\n",
      "('TRACCSW128F148C7C3', 'If I...', 'SODMVJR12A6D4F985D', 'Ill Na Na', 'ARDI88R1187B98DAB2', 'fd87374e-ffde-4d36-89a8-8a073f795666', 'Foxy Brown', 222.92853, 0.687687485872, 0.406686099467, 0)\n",
      "('TRACCXJ128F428F0CF', \"Werther - Lyric Drama in four Acts/Act I/Alors_ c'est bien ici la maison du bailli?\", 'SOIWBDR12A8C13A4AC', 'Massenet: Werther', 'ARUKJUP12086C14589', '8a5f2736-bcde-4a2e-8d50-72631d66a7ef', 'Ramón Vargas;Vladimir Jurowski', 278.38649, 0.391741394148, 0.291264811753, 0)\n",
      "('TRACCVS12903D014F8', 'Ad Te Clamamus Exsvles Mortva Liberi', 'SOHCCIA12AC907577F', 'Pentagrammaton', 'ARZEWUR1187FB53DC8', '0be59867-0da4-4e45-9b64-728cdf25487c', 'Enthroned', 89.15546, 0.59341604878, 0.395709547708, 2010)\n",
      "('TRACCKS128F42B77AE', 'Murder One', 'SOBOAQC12A8C13E3E9', 'BTNHRESURRECTION', 'ARUZRFN1187B98AC05', '2fa45bbb-0efb-4950-9d40-94bf23cbfec1', 'Bone Thugs-N-Harmony', 255.73832, 0.815923420344, 0.555138321923, 2000)\n",
      "('TRACCQM12903CACC1E', 'On My Feet Again', 'SOKVLHX12AB0187B39', 'Utopia', 'ARHBWOZ1187FB3FD53', 'e6ff2839-5ccb-451b-b07e-f485bc143118', 'Utopia', 239.59465, 0.543936551885, 0.430300279108, 0)\n",
      "('TRACCUS128F92E1FEB', 'Bedroom Acoustics', 'SOMMSMW12A8C13FCCC', 'Plug In Baby', 'ARR3ONV1187B9A2F59', 'fd857293-5ab8-40de-b29e-55a69d4e4d0f', 'Muse', 156.96934, 0.929030287441, 0.750426551019, 0)\n",
      "('TRACCJA128F149A144', 'Segredo', 'SODPNJR12A6D4FA52D', 'Joao Voz E Violato', 'AR3THYK1187B999F1F', '286ec4c2-b5ca-4f85-b331-280a6d73dd14', 'João Gilberto', 197.19791, 0.645192338747, 0.471224329919, 2000)\n",
      "('TRACCGB12903CD1B90', 'Sajana (Ft Faheem Mazhar)', 'SOFFLLP12AB018ED52', 'The Lost Souls Bonus EP', 'ARFELOH1187B991F95', '65b785d9-499f-48e6-9063-3a1fd1bd488d', 'Niraj Chag', 262.5824, 0.495819328959, 0.34276521913, 0)\n",
      "('TRACCXJ128F92E984B', 'Theresa', 'SOZSPTD12A8C143BFD', 'Distance', 'ARO0EUG1187B9AC250', '668e5c58-903a-4aee-ba0d-9166a3bba4cc', 'Portable', 362.60526, 0.532850502341, 0.302930470625, 2003)\n",
      "('TRACCEJ128F93257ED', \"Story Of An Artist (Don't Be Scared)\", 'SOHWWOM12AB0186627', 'Welcome to my World', 'AR6CLFP1187B9ACB94', '8a7ca8b0-d23c-4eff-8fe9-6220ba5c9c76', 'Daniel Johnston', 311.53587, 0.713322146547, 0.473613189375, 0)\n",
      "('TRACCMO12903CA4168', 'D Shuffle Jam (Part 2)', 'SOZVLXO12AF72ABCDB', 'Live At Tonic', 'AR6WICD1187B998708', '6035000d-b53b-4b01-b5a0-a7572c34e806', 'Christian McBride', 692.06159, 0.587332267375, 0.4213861126, 0)\n",
      "('TRACCVN128F92DAE3D', 'Ju Ju', 'SOVBVJW12AAF3B5F77', 'Intermobility', 'ARMFOCL119B8668919', 'ede0d8a0-0b0a-4ded-ae3c-affba301dae8', 'String Trio Of New York', 392.4371, 0.274613283356, 0.0, 0)\n",
      "('TRACCOK128F932AF52', 'When I Was A Cowboy (Western Plains) (LP Version)', 'SOINHKC12AB01836E0', 'Garden Of Joy', 'AR3GYKU1187B996AB9', '61a75fe6-c102-49bf-96b0-40a1b85c8e7c', 'Jim Kweskin', 208.90077, 0.341732230036, 0.296823950795, 0)\n",
      "('TRACCLY12903CDD7C4', 'I Destructor (Lenny Dee Mix)', 'SODKUVJ12AB0187A4A', 'Blown Away', 'ARDOOH01187B991055', '344c5e8c-d4f1-4bec-8ff5-08ef100a9e5d', 'Ultraviolence', 367.41179, 0.499939220989, 0.374449430497, 0)\n",
      "('TRACJJZ12903CCBCDA', 'No Survivors', 'SOMJNMD12AB0187F93', 'Maximum Speed', 'ARVUAJC1187B9908A5', 'dcaedaf8-b460-4966-8a05-1a080a6734fb', 'Speedball', 212.21832, 0.486679143166, 0.362501433921, 1998)\n",
      "('TRACJPW128F932CA4C', 'Her Golden Robe In Silence Veiled', 'SOZNBMX12AB0182AD1', 'DämmerElbenTragödie', 'ARM63WJ1187B9951EA', 'a58d6509-7716-4b2f-a145-c642144bbd76', 'Autumnblaze', 286.24934, 0.493891152979, 0.35549595658, 1999)\n",
      "('TRACJWY12903CB7DBF', 'Same Old Song', 'SOIRIWN12AB0183AE7', 'Original Album Classics', 'ARBQPXY1187B98D67B', 'cb1ca13a-4821-4e66-aff0-0fd6b3dc9a81', 'Kris Kristofferson', 194.37669, 0.73239386307, 0.496224348644, 1974)\n",
      "('TRACJHJ128F1489FAB', 'The Ride (Album)', 'SOESNFW12A6D4F995F', 'House Full Of No Trust', 'ARPVFV91187B98BB94', '95927574-d2b9-4756-b7d6-09b3c248c311', 'Cinder', 218.61832, 0.553194233521, 0.359807225003, 2006)\n",
      "('TRACJVF128F92D2DB3', 'Two Little Fishes_ Five Loaves Of Bread', 'SOGNFKZ12A8C145224', 'Complete / Intégrale Vol. 5 (1953-1957)', 'AR6TD9K1187B9A207D', 'f5625c87-5a62-4b3b-a375-fe08a71acddc', 'Sister Rosetta Tharpe', 156.42077, 0.553104832921, 0.360350447854, 0)\n",
      "('TRACJDX12903CD4917', 'Church Hangover', 'SOSJVGP12AB0185B95', 'El Mas Chingon', 'ARYF20K1187B9B76BD', '4a41c200-153b-4158-87b3-db0fea627e2c', 'George Lopez', 270.68036, 0.668020248723, 0.516963730738, 2006)\n",
      "('TRACJKR12903D02C75', 'I Got Stripes (Live)', 'SOHHGUG12A6D4F4E77', 'The Legend', 'ARH861H1187B9B799E', 'd43d12a1-2dc9-4257-a2fd-0a3bb1081b86', 'Johnny Cash', 112.95302, 0.817256292502, 0.735208877747, 2006)\n",
      "('TRACJVT12903CB0F49', 'The Greed Of Our Stare', 'SOBIPBF12AB0184B0C', 'Unwant', 'ARHWRBR119B8669309', '6d2e94ff-76f7-45f7-a7ce-9fe724952b8b', 'Hatesex', 307.87873, 0.461286162289, 0.0, 0)\n",
      "('TRACJOQ12903CBBB64', 'The Contracting Perception Of Consciousness', 'SONUTGA12AB0187F44', 'Praying Mantis', 'ARE17W51187FB5381B', '3ab20833-bea6-4972-9e83-14599e3666a1', 'Rui Da Silva', 448.62649, 0.625186797468, 0.388800312915, 0)\n",
      "('TRACIJF128F424317B', 'Post-Toxic Finger Disorder', 'SOIGIUZ12A8C1337B1', \"Tim Exile's Nuisance Gabbaret Lounge\", 'AR8U8G41187B9A833B', '110500b0-78a7-41cb-8535-9f37ab35a902', 'Tim Exile', 80.3522, 0.620501924916, 0.301847094811, 2006)\n",
      "('TRACIOB128F4296D0F', 'Qui Donc A Changé ?', 'SORRQLD12A8C139E8D', '36 Grands Succès', 'ARQVTCN11E2835DFFD', 'f4847b22-6278-4963-aae6-43f6958ec261', 'Marcel Mouloudji', 110.34077, 0.325219143048, 0.270099982469, 0)\n",
      "('TRACIKJ128F4226ABA', 'Lotus Kiss', 'SOHHKOU12A81C224B2', 'Gathering The Tribe', 'AR8W2DS1187B9B6E36', 'c11db213-a40e-43c1-b2b7-cc2f0f08cb5b', 'Alex Theory', 317.88363, 0.448124002912, 0.315522959032, 0)\n",
      "('TRACICJ128F14ADFB8', 'So Many Books ... (The Word Album Version)', 'SOWUAYB12A6D4FA1D4', 'Joy in the Journey', 'ARHO1WI1187B98CB84', 'd1de79d5-3ca3-42f5-8d82-fbc71a76ec93', 'Michael Card', 163.082, 0.015557880683, 0.344246580364, 0)\n",
      "('TRACIIS128F425DF68', \"Drummer's Circle\", 'SOYTQGO12A8C138C1B', 'Transformation', 'ARYUHNV1187FB482AF', 'acf836d7-c773-40ee-860b-5f4024e8e97f', 'Megadrums', 237.24363, 0.327233191416, 0.0637249864633, 0)\n",
      "10000\n"
     ]
    }
   ],
   "source": [
    "conn = sqlite3.connect(os.path.join(msd_subset_addf_path,\n",
    "                                    'subset_track_metadata.db'))\n",
    "\n",
    "# we build the SQL query\n",
    "q = \"SELECT * FROM songs\"\n",
    "# we query the database\n",
    "t1 = time.time()\n",
    "res = conn.execute(q)\n",
    "all_artist_names_sqlite = res.fetchall()\n",
    "t2 = time.time()\n",
    "print('all artist names extracted (SQLite) in:', strtimedelta(t1,t2))\n",
    "# we close the connection to the database\n",
    "conn.close()\n",
    "# let's see some of the content\n",
    "for k in range(30):\n",
    "    print(all_artist_names_sqlite[k])\n",
    "    \n",
    "print(len(all_artist_names_sqlite))"
   ]
  },
  {
   "cell_type": "code",
   "execution_count": null,
   "metadata": {
    "collapsed": true
   },
   "outputs": [],
   "source": [
    "all_artist_names = set()\n",
    "\n",
    "# we define the function to apply to all files\n",
    "def func_to_get_artist_name(filename):\n",
    "    \"\"\"\n",
    "    This function does 3 simple things:\n",
    "    - open the song file\n",
    "    - get artist ID and put it\n",
    "    - close the file\n",
    "    \"\"\"\n",
    "    h5 = GETTERS.open_h5_file_read(filename)\n",
    "    artist_name = GETTERS.get_artist_name(h5)\n",
    "    all_artist_names.add( artist_name )\n",
    "    h5.close()"
   ]
  },
  {
   "cell_type": "code",
   "execution_count": null,
   "metadata": {
    "collapsed": true
   },
   "outputs": [],
   "source": [
    "\"\"\"\n",
    "Tutorial for the Million Song Dataset\n",
    "\n",
    "by Thierry Bertin-Mahieux (2011) Columbia University\n",
    "   tb2332@columbia.edu\n",
    "   Copyright 2011 T. Bertin-Mahieux, All Rights Reserved\n",
    "\n",
    "This tutorial will walk you through a quick experiment\n",
    "using the Million Song Dataset (MSD). We will actually be working\n",
    "on the 10K songs subset for speed issues, but the code should\n",
    "transpose seamlessly.\n",
    "\n",
    "In this tutorial, we do simple metadata analysis. We look at\n",
    "which artist has the most songs by iterating over the whole\n",
    "dataset and using an SQLite database.\n",
    "\n",
    "You need to have the MSD code downloaded from GITHUB.\n",
    "See the MSD website for details:\n",
    "http://labrosa.ee.columbia.edu/millionsong/\n",
    "\n",
    "If you have any questions regarding the dataset or this tutorial,\n",
    "please first take a look at the website. Send us an email\n",
    "if you haven't found the answer.\n",
    "\n",
    "Note: this tutorial is developed using Python 2.6\n",
    "      on an Ubuntu machine. PDF created using 'pyreport'.\n",
    "\"\"\"\n",
    "\n",
    "\n",
    "# path to the Million Song Dataset code\n",
    "# CHANGE IT TO YOUR LOCAL CONFIGURATION\n",
    "msd_code_path='/home/thierry/Columbia/MSongsDB'\n",
    "assert os.path.isdir(msd_code_path),'wrong path' # sanity check\n",
    "# we add some paths to python so we can import MSD code\n",
    "# Ubuntu: you can change the environment variable PYTHONPATH\n",
    "# in your .bashrc file so you do not have to type these lines\n",
    "sys.path.append( os.path.join(msd_code_path,'PythonSrc') )\n",
    "\n",
    "# imports specific to the MSD\n",
    "import hdf5_getters as GETTERS\n",
    "\n",
    "# the following function simply gives us a nice string for\n",
    "# a time lag in seconds\n",
    "def strtimedelta(starttime,stoptime):\n",
    "    return str(datetime.timedelta(seconds=stoptime-starttime))\n",
    "\n",
    "# we define this very useful function to iterate the files\n",
    "def apply_to_all_files(basedir,func=lambda x: x,ext='.h5'):\n",
    "    \"\"\"\n",
    "    From a base directory, go through all subdirectories,\n",
    "    find all files with the given extension, apply the\n",
    "    given function 'func' to all of them.\n",
    "    If no 'func' is passed, we do nothing except counting.\n",
    "    INPUT\n",
    "       basedir  - base directory of the dataset\n",
    "       func     - function to apply to all filenames\n",
    "       ext      - extension, .h5 by default\n",
    "    RETURN\n",
    "       number of files\n",
    "    \"\"\"\n",
    "    cnt = 0\n",
    "    # iterate over all files in all subdirectories\n",
    "    for root, dirs, files in os.walk(basedir):\n",
    "        files = glob.glob(os.path.join(root,'*'+ext))\n",
    "        # count files\n",
    "        cnt += len(files)\n",
    "        # apply function to all files\n",
    "        for f in files :\n",
    "            func(f)       \n",
    "    return cnt\n",
    "\n",
    "# we can now easily count the number of files in the dataset\n",
    "print 'number of song files:',apply_to_all_files(msd_subset_data_path)\n",
    "\n",
    "# let's now get all artist names in a set(). One nice property:\n",
    "# if we enter many times the same artist, only one will be kept.\n",
    "all_artist_names = set()\n",
    "\n",
    "# we define the function to apply to all files\n",
    "def func_to_get_artist_name(filename):\n",
    "    \"\"\"\n",
    "    This function does 3 simple things:\n",
    "    - open the song file\n",
    "    - get artist ID and put it\n",
    "    - close the file\n",
    "    \"\"\"\n",
    "    h5 = GETTERS.open_h5_file_read(filename)\n",
    "    artist_name = GETTERS.get_artist_name(h5)\n",
    "    all_artist_names.add( artist_name )\n",
    "    h5.close()\n",
    "    \n",
    "# let's apply the previous function to all files\n",
    "# we'll also measure how long it takes\n",
    "t1 = time.time()\n",
    "apply_to_all_files(msd_subset_data_path,func=func_to_get_artist_name)\n",
    "t2 = time.time()\n",
    "print 'all artist names extracted in:',strtimedelta(t1,t2)\n",
    "\n",
    "\n",
    "\n",
    "\n",
    "# let's see some of the content of 'all_artist_names'\n",
    "print 'found',len(all_artist_names),'unique artist names'\n",
    "for k in range(5):\n",
    "    print list(all_artist_names)[k]\n",
    "\n",
    "# this is too long, and the work of listing artist names has already\n",
    "# been done. Let's redo the same task using an SQLite database.\n",
    "# We connect to the provided database: track_metadata.db\n",
    "conn = sqlite3.connect(os.path.join(msd_subset_addf_path,\n",
    "                                    'subset_track_metadata.db'))\n",
    "# we build the SQL query\n",
    "q = \"SELECT DISTINCT artist_name FROM songs\"\n",
    "# we query the database\n",
    "t1 = time.time()\n",
    "res = conn.execute(q)\n",
    "all_artist_names_sqlite = res.fetchall()\n",
    "t2 = time.time()\n",
    "print 'all artist names extracted (SQLite) in:',strtimedelta(t1,t2)\n",
    "# we close the connection to the database\n",
    "conn.close()\n",
    "# let's see some of the content\n",
    "for k in range(5):\n",
    "    print all_artist_names_sqlite[k][0]\n",
    "\n",
    "# now, let's find the artist that has the most songs in the dataset\n",
    "# what we want to work with is artist ID, not artist names. Some artists\n",
    "# have many names, usually because the song is \"featuring someone else\"\n",
    "conn = sqlite3.connect(os.path.join(msd_subset_addf_path,\n",
    "                                    'subset_track_metadata.db'))\n",
    "q = \"SELECT DISTINCT artist_id FROM songs\"\n",
    "res = conn.execute(q)\n",
    "all_artist_ids = map(lambda x: x[0], res.fetchall())\n",
    "conn.close()\n",
    "\n",
    "# The Echo Nest artist id look like:\n",
    "for k in range(4):\n",
    "    print all_artist_ids[k]\n",
    "\n",
    "# let's count the songs from each of these artists.\n",
    "# We will do it first by iterating over the dataset.\n",
    "# we prepare a dictionary to count files\n",
    "files_per_artist = {}\n",
    "for aid in all_artist_ids:\n",
    "    files_per_artist[aid] = 0\n",
    "\n",
    "# we prepare the function to check artist id in each file\n",
    "def func_to_count_artist_id(filename):\n",
    "    \"\"\"\n",
    "    This function does 3 simple things:\n",
    "    - open the song file\n",
    "    - get artist ID and put it\n",
    "    - close the file\n",
    "    \"\"\"\n",
    "    h5 = GETTERS.open_h5_file_read(filename)\n",
    "    artist_id = GETTERS.get_artist_id(h5)\n",
    "    files_per_artist[artist_id] += 1\n",
    "    h5.close()\n",
    "\n",
    "# we apply this function to all files\n",
    "apply_to_all_files(msd_subset_data_path,func=func_to_count_artist_id)\n",
    "\n",
    "# the most popular artist (with the most songs) is:\n",
    "most_pop_aid = sorted(files_per_artist,\n",
    "                      key=files_per_artist.__getitem__,\n",
    "                      reverse=True)[0]\n",
    "print most_pop_aid,'has',files_per_artist[most_pop_aid],'songs.'\n",
    "\n",
    "# of course, it is more fun to have the name(s) of this artist\n",
    "# let's get it using SQLite\n",
    "conn = sqlite3.connect(os.path.join(msd_subset_addf_path,\n",
    "                                    'subset_track_metadata.db'))\n",
    "q = \"SELECT DISTINCT artist_name FROM songs\"\n",
    "q += \" WHERE artist_id='\"+most_pop_aid+\"'\"\n",
    "res = conn.execute(q)\n",
    "pop_artist_names = map(lambda x: x[0], res.fetchall())\n",
    "conn.close()\n",
    "print 'SQL query:',q\n",
    "print 'name(s) of the most popular artist:',pop_artist_names\n",
    "\n",
    "# let's redo all this work in SQLite in a few seconds\n",
    "t1 = time.time()\n",
    "conn = sqlite3.connect(os.path.join(msd_subset_addf_path,\n",
    "                                    'subset_track_metadata.db'))\n",
    "q = \"SELECT DISTINCT artist_id,artist_name,Count(track_id) FROM songs\"\n",
    "q += \" GROUP BY artist_id\"\n",
    "res = conn.execute(q)\n",
    "pop_artists = res.fetchall()\n",
    "conn.close()\n",
    "t2 = time.time()\n",
    "print 'found most popular artist in',strtimedelta(t1,t2)\n",
    "print sorted(pop_artists,key=lambda x:x[2],reverse=True)[0]"
   ]
  },
  {
   "cell_type": "code",
   "execution_count": null,
   "metadata": {
    "collapsed": true
   },
   "outputs": [],
   "source": []
  }
 ],
 "metadata": {
  "kernelspec": {
   "display_name": "Python 3",
   "language": "python",
   "name": "python3"
  },
  "language_info": {
   "codemirror_mode": {
    "name": "ipython",
    "version": 3
   },
   "file_extension": ".py",
   "mimetype": "text/x-python",
   "name": "python",
   "nbconvert_exporter": "python",
   "pygments_lexer": "ipython3",
   "version": "3.6.1"
  }
 },
 "nbformat": 4,
 "nbformat_minor": 2
}
